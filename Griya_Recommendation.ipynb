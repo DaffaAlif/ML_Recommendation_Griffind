{
  "cells": [
    {
      "cell_type": "code",
      "execution_count": 2,
      "metadata": {
        "id": "cPCTfMT3Umeo"
      },
      "outputs": [],
      "source": [
        "!pip install -q tensorflow-recommenders"
      ]
    },
    {
      "cell_type": "code",
      "execution_count": 2,
      "metadata": {
        "id": "gDEIrRGlUU2q"
      },
      "outputs": [
        {
          "ename": "ModuleNotFoundError",
          "evalue": "No module named 'tensorflow_datasets'",
          "output_type": "error",
          "traceback": [
            "\u001b[1;31m---------------------------------------------------------------------------\u001b[0m",
            "\u001b[1;31mModuleNotFoundError\u001b[0m                       Traceback (most recent call last)",
            "Cell \u001b[1;32mIn[2], line 7\u001b[0m\n\u001b[0;32m      5\u001b[0m \u001b[39mimport\u001b[39;00m \u001b[39mnumpy\u001b[39;00m \u001b[39mas\u001b[39;00m \u001b[39mnp\u001b[39;00m\n\u001b[0;32m      6\u001b[0m \u001b[39mimport\u001b[39;00m \u001b[39mtensorflow\u001b[39;00m \u001b[39mas\u001b[39;00m \u001b[39mtf\u001b[39;00m\n\u001b[1;32m----> 7\u001b[0m \u001b[39mimport\u001b[39;00m \u001b[39mtensorflow_datasets\u001b[39;00m \u001b[39mas\u001b[39;00m \u001b[39mtfds\u001b[39;00m\n\u001b[0;32m      8\u001b[0m \u001b[39mimport\u001b[39;00m \u001b[39mtensorflow_recommenders\u001b[39;00m \u001b[39mas\u001b[39;00m \u001b[39mtfrs\u001b[39;00m\n\u001b[0;32m      9\u001b[0m \u001b[39mimport\u001b[39;00m \u001b[39mpandas\u001b[39;00m \u001b[39mas\u001b[39;00m \u001b[39mpd\u001b[39;00m\n",
            "\u001b[1;31mModuleNotFoundError\u001b[0m: No module named 'tensorflow_datasets'"
          ]
        }
      ],
      "source": [
        "from typing import Dict, Text\n",
        "import os\n",
        "import pprint\n",
        "import tempfile\n",
        "import numpy as np\n",
        "import tensorflow as tf\n",
        "import tensorflow_datasets as tfds\n",
        "import tensorflow_recommenders as tfrs\n",
        "import pandas as pd\n",
        "from sklearn.model_selection import train_test_split"
      ]
    },
    {
      "cell_type": "code",
      "execution_count": 3,
      "metadata": {
        "id": "2JdFaY2kUaGL"
      },
      "outputs": [],
      "source": [
        "# Ratings data.\n",
        "ratings = pd.read_csv(\"/content/sample_data/Datasetgriya - Ratings.csv\")\n",
        "# Features of all the available griya.\n",
        "griya = pd.read_csv(\"/content/sample_data/Datasetgriya - Griya.csv\")\n",
        "\n"
      ]
    },
    {
      "cell_type": "code",
      "execution_count": 4,
      "metadata": {
        "colab": {
          "base_uri": "https://localhost:8080/",
          "height": 363
        },
        "id": "5FWQRw5SWrUP",
        "outputId": "844316a9-1058-41c8-dd01-dd341337aa6b"
      },
      "outputs": [
        {
          "data": {
            "text/html": [
              "\n",
              "  <div id=\"df-fa6f8405-5479-4dae-8e12-bf118fc21808\">\n",
              "    <div class=\"colab-df-container\">\n",
              "      <div>\n",
              "<style scoped>\n",
              "    .dataframe tbody tr th:only-of-type {\n",
              "        vertical-align: middle;\n",
              "    }\n",
              "\n",
              "    .dataframe tbody tr th {\n",
              "        vertical-align: top;\n",
              "    }\n",
              "\n",
              "    .dataframe thead th {\n",
              "        text-align: right;\n",
              "    }\n",
              "</style>\n",
              "<table border=\"1\" class=\"dataframe\">\n",
              "  <thead>\n",
              "    <tr style=\"text-align: right;\">\n",
              "      <th></th>\n",
              "      <th>id_griya</th>\n",
              "      <th>nama_griya</th>\n",
              "    </tr>\n",
              "  </thead>\n",
              "  <tbody>\n",
              "    <tr>\n",
              "      <th>0</th>\n",
              "      <td>gr01</td>\n",
              "      <td>Kost Uluwatu Stay</td>\n",
              "    </tr>\n",
              "    <tr>\n",
              "      <th>1</th>\n",
              "      <td>gr02</td>\n",
              "      <td>Kos 168</td>\n",
              "    </tr>\n",
              "    <tr>\n",
              "      <th>2</th>\n",
              "      <td>gr03</td>\n",
              "      <td>Lakuna House</td>\n",
              "    </tr>\n",
              "    <tr>\n",
              "      <th>3</th>\n",
              "      <td>gr04</td>\n",
              "      <td>Awana Apartments</td>\n",
              "    </tr>\n",
              "    <tr>\n",
              "      <th>4</th>\n",
              "      <td>gr05</td>\n",
              "      <td>Rumah Una Hotel</td>\n",
              "    </tr>\n",
              "    <tr>\n",
              "      <th>5</th>\n",
              "      <td>gr06</td>\n",
              "      <td>Kost Pondok EFATA Jimbaran</td>\n",
              "    </tr>\n",
              "    <tr>\n",
              "      <th>6</th>\n",
              "      <td>gr07</td>\n",
              "      <td>Wika Bali Beach House</td>\n",
              "    </tr>\n",
              "    <tr>\n",
              "      <th>7</th>\n",
              "      <td>gr08</td>\n",
              "      <td>Kost Ibu Made Taman Griya</td>\n",
              "    </tr>\n",
              "    <tr>\n",
              "      <th>8</th>\n",
              "      <td>gr09</td>\n",
              "      <td>Griya Amerta Kost &amp; Home Stay</td>\n",
              "    </tr>\n",
              "    <tr>\n",
              "      <th>9</th>\n",
              "      <td>gr10</td>\n",
              "      <td>Kos PuriNaga at Jimbaran Bukit perum Purigadin...</td>\n",
              "    </tr>\n",
              "  </tbody>\n",
              "</table>\n",
              "</div>\n",
              "      <button class=\"colab-df-convert\" onclick=\"convertToInteractive('df-fa6f8405-5479-4dae-8e12-bf118fc21808')\"\n",
              "              title=\"Convert this dataframe to an interactive table.\"\n",
              "              style=\"display:none;\">\n",
              "        \n",
              "  <svg xmlns=\"http://www.w3.org/2000/svg\" height=\"24px\"viewBox=\"0 0 24 24\"\n",
              "       width=\"24px\">\n",
              "    <path d=\"M0 0h24v24H0V0z\" fill=\"none\"/>\n",
              "    <path d=\"M18.56 5.44l.94 2.06.94-2.06 2.06-.94-2.06-.94-.94-2.06-.94 2.06-2.06.94zm-11 1L8.5 8.5l.94-2.06 2.06-.94-2.06-.94L8.5 2.5l-.94 2.06-2.06.94zm10 10l.94 2.06.94-2.06 2.06-.94-2.06-.94-.94-2.06-.94 2.06-2.06.94z\"/><path d=\"M17.41 7.96l-1.37-1.37c-.4-.4-.92-.59-1.43-.59-.52 0-1.04.2-1.43.59L10.3 9.45l-7.72 7.72c-.78.78-.78 2.05 0 2.83L4 21.41c.39.39.9.59 1.41.59.51 0 1.02-.2 1.41-.59l7.78-7.78 2.81-2.81c.8-.78.8-2.07 0-2.86zM5.41 20L4 18.59l7.72-7.72 1.47 1.35L5.41 20z\"/>\n",
              "  </svg>\n",
              "      </button>\n",
              "      \n",
              "  <style>\n",
              "    .colab-df-container {\n",
              "      display:flex;\n",
              "      flex-wrap:wrap;\n",
              "      gap: 12px;\n",
              "    }\n",
              "\n",
              "    .colab-df-convert {\n",
              "      background-color: #E8F0FE;\n",
              "      border: none;\n",
              "      border-radius: 50%;\n",
              "      cursor: pointer;\n",
              "      display: none;\n",
              "      fill: #1967D2;\n",
              "      height: 32px;\n",
              "      padding: 0 0 0 0;\n",
              "      width: 32px;\n",
              "    }\n",
              "\n",
              "    .colab-df-convert:hover {\n",
              "      background-color: #E2EBFA;\n",
              "      box-shadow: 0px 1px 2px rgba(60, 64, 67, 0.3), 0px 1px 3px 1px rgba(60, 64, 67, 0.15);\n",
              "      fill: #174EA6;\n",
              "    }\n",
              "\n",
              "    [theme=dark] .colab-df-convert {\n",
              "      background-color: #3B4455;\n",
              "      fill: #D2E3FC;\n",
              "    }\n",
              "\n",
              "    [theme=dark] .colab-df-convert:hover {\n",
              "      background-color: #434B5C;\n",
              "      box-shadow: 0px 1px 3px 1px rgba(0, 0, 0, 0.15);\n",
              "      filter: drop-shadow(0px 1px 2px rgba(0, 0, 0, 0.3));\n",
              "      fill: #FFFFFF;\n",
              "    }\n",
              "  </style>\n",
              "\n",
              "      <script>\n",
              "        const buttonEl =\n",
              "          document.querySelector('#df-fa6f8405-5479-4dae-8e12-bf118fc21808 button.colab-df-convert');\n",
              "        buttonEl.style.display =\n",
              "          google.colab.kernel.accessAllowed ? 'block' : 'none';\n",
              "\n",
              "        async function convertToInteractive(key) {\n",
              "          const element = document.querySelector('#df-fa6f8405-5479-4dae-8e12-bf118fc21808');\n",
              "          const dataTable =\n",
              "            await google.colab.kernel.invokeFunction('convertToInteractive',\n",
              "                                                     [key], {});\n",
              "          if (!dataTable) return;\n",
              "\n",
              "          const docLinkHtml = 'Like what you see? Visit the ' +\n",
              "            '<a target=\"_blank\" href=https://colab.research.google.com/notebooks/data_table.ipynb>data table notebook</a>'\n",
              "            + ' to learn more about interactive tables.';\n",
              "          element.innerHTML = '';\n",
              "          dataTable['output_type'] = 'display_data';\n",
              "          await google.colab.output.renderOutput(dataTable, element);\n",
              "          const docLink = document.createElement('div');\n",
              "          docLink.innerHTML = docLinkHtml;\n",
              "          element.appendChild(docLink);\n",
              "        }\n",
              "      </script>\n",
              "    </div>\n",
              "  </div>\n",
              "  "
            ],
            "text/plain": [
              "  id_griya                                         nama_griya\n",
              "0     gr01                                  Kost Uluwatu Stay\n",
              "1     gr02                                            Kos 168\n",
              "2     gr03                                       Lakuna House\n",
              "3     gr04                                   Awana Apartments\n",
              "4     gr05                                    Rumah Una Hotel\n",
              "5     gr06                         Kost Pondok EFATA Jimbaran\n",
              "6     gr07                              Wika Bali Beach House\n",
              "7     gr08                          Kost Ibu Made Taman Griya\n",
              "8     gr09                      Griya Amerta Kost & Home Stay\n",
              "9     gr10  Kos PuriNaga at Jimbaran Bukit perum Purigadin..."
            ]
          },
          "execution_count": 4,
          "metadata": {},
          "output_type": "execute_result"
        }
      ],
      "source": [
        "griya"
      ]
    },
    {
      "cell_type": "code",
      "execution_count": 5,
      "metadata": {
        "colab": {
          "base_uri": "https://localhost:8080/",
          "height": 459
        },
        "id": "ZEWzzwWPWsIz",
        "outputId": "9da7b9bf-b5b3-4c2c-baf3-5dbee694c5ed"
      },
      "outputs": [
        {
          "data": {
            "text/html": [
              "\n",
              "  <div id=\"df-26b54ae9-1680-4ea3-9975-9a319deda179\">\n",
              "    <div class=\"colab-df-container\">\n",
              "      <div>\n",
              "<style scoped>\n",
              "    .dataframe tbody tr th:only-of-type {\n",
              "        vertical-align: middle;\n",
              "    }\n",
              "\n",
              "    .dataframe tbody tr th {\n",
              "        vertical-align: top;\n",
              "    }\n",
              "\n",
              "    .dataframe thead th {\n",
              "        text-align: right;\n",
              "    }\n",
              "</style>\n",
              "<table border=\"1\" class=\"dataframe\">\n",
              "  <thead>\n",
              "    <tr style=\"text-align: right;\">\n",
              "      <th></th>\n",
              "      <th>id_griya</th>\n",
              "      <th>nama_griya</th>\n",
              "      <th>alamat_griya</th>\n",
              "      <th>latitude</th>\n",
              "      <th>longitude</th>\n",
              "      <th>rating</th>\n",
              "      <th>user_id</th>\n",
              "    </tr>\n",
              "  </thead>\n",
              "  <tbody>\n",
              "    <tr>\n",
              "      <th>0</th>\n",
              "      <td>gr01</td>\n",
              "      <td>Kost Uluwatu Stay</td>\n",
              "      <td>Jimbaran</td>\n",
              "      <td>-8.797208</td>\n",
              "      <td>115.162319</td>\n",
              "      <td>4</td>\n",
              "      <td>1</td>\n",
              "    </tr>\n",
              "    <tr>\n",
              "      <th>1</th>\n",
              "      <td>gr02</td>\n",
              "      <td>Kos 168</td>\n",
              "      <td>Gg. Buanasari Uluwatu 2</td>\n",
              "      <td>-8.795778</td>\n",
              "      <td>115.159935</td>\n",
              "      <td>3</td>\n",
              "      <td>2</td>\n",
              "    </tr>\n",
              "    <tr>\n",
              "      <th>2</th>\n",
              "      <td>gr03</td>\n",
              "      <td>Lakuna House</td>\n",
              "      <td>Jalan Muding Mekar Taman Muding Mekar</td>\n",
              "      <td>-8.788545</td>\n",
              "      <td>115.182526</td>\n",
              "      <td>5</td>\n",
              "      <td>3</td>\n",
              "    </tr>\n",
              "    <tr>\n",
              "      <th>3</th>\n",
              "      <td>gr04</td>\n",
              "      <td>Awana Apartments</td>\n",
              "      <td>Jl. Arwana No.6</td>\n",
              "      <td>-8.778635</td>\n",
              "      <td>115.176744</td>\n",
              "      <td>4</td>\n",
              "      <td>4</td>\n",
              "    </tr>\n",
              "    <tr>\n",
              "      <th>4</th>\n",
              "      <td>gr05</td>\n",
              "      <td>Rumah Una Hotel</td>\n",
              "      <td>656H+MRQ</td>\n",
              "      <td>-8.788037</td>\n",
              "      <td>115.179516</td>\n",
              "      <td>2</td>\n",
              "      <td>5</td>\n",
              "    </tr>\n",
              "    <tr>\n",
              "      <th>5</th>\n",
              "      <td>gr06</td>\n",
              "      <td>Kost Pondok EFATA Jimbaran</td>\n",
              "      <td>Jimbaran</td>\n",
              "      <td>-8.793385</td>\n",
              "      <td>115.165669</td>\n",
              "      <td>5</td>\n",
              "      <td>6</td>\n",
              "    </tr>\n",
              "    <tr>\n",
              "      <th>6</th>\n",
              "      <td>gr07</td>\n",
              "      <td>Wika Bali Beach House</td>\n",
              "      <td>Perumahan Terrace Campus Jalan Perumahan Terra...</td>\n",
              "      <td>-8.787962</td>\n",
              "      <td>115.172461</td>\n",
              "      <td>5</td>\n",
              "      <td>7</td>\n",
              "    </tr>\n",
              "    <tr>\n",
              "      <th>7</th>\n",
              "      <td>gr08</td>\n",
              "      <td>Kost Ibu Made Taman Griya</td>\n",
              "      <td>Jl. Taman Griya No.15</td>\n",
              "      <td>-8.784103</td>\n",
              "      <td>115.185916</td>\n",
              "      <td>4</td>\n",
              "      <td>8</td>\n",
              "    </tr>\n",
              "    <tr>\n",
              "      <th>8</th>\n",
              "      <td>gr09</td>\n",
              "      <td>Griya Amerta Kost &amp; Home Stay</td>\n",
              "      <td>65CR+GW6</td>\n",
              "      <td>-8.778157</td>\n",
              "      <td>115.192303</td>\n",
              "      <td>5</td>\n",
              "      <td>9</td>\n",
              "    </tr>\n",
              "    <tr>\n",
              "      <th>9</th>\n",
              "      <td>gr10</td>\n",
              "      <td>Kos PuriNaga at Jimbaran Bukit perum Purigadin...</td>\n",
              "      <td>perum Puri Gading</td>\n",
              "      <td>-8.801855</td>\n",
              "      <td>115.155358</td>\n",
              "      <td>5</td>\n",
              "      <td>10</td>\n",
              "    </tr>\n",
              "  </tbody>\n",
              "</table>\n",
              "</div>\n",
              "      <button class=\"colab-df-convert\" onclick=\"convertToInteractive('df-26b54ae9-1680-4ea3-9975-9a319deda179')\"\n",
              "              title=\"Convert this dataframe to an interactive table.\"\n",
              "              style=\"display:none;\">\n",
              "        \n",
              "  <svg xmlns=\"http://www.w3.org/2000/svg\" height=\"24px\"viewBox=\"0 0 24 24\"\n",
              "       width=\"24px\">\n",
              "    <path d=\"M0 0h24v24H0V0z\" fill=\"none\"/>\n",
              "    <path d=\"M18.56 5.44l.94 2.06.94-2.06 2.06-.94-2.06-.94-.94-2.06-.94 2.06-2.06.94zm-11 1L8.5 8.5l.94-2.06 2.06-.94-2.06-.94L8.5 2.5l-.94 2.06-2.06.94zm10 10l.94 2.06.94-2.06 2.06-.94-2.06-.94-.94-2.06-.94 2.06-2.06.94z\"/><path d=\"M17.41 7.96l-1.37-1.37c-.4-.4-.92-.59-1.43-.59-.52 0-1.04.2-1.43.59L10.3 9.45l-7.72 7.72c-.78.78-.78 2.05 0 2.83L4 21.41c.39.39.9.59 1.41.59.51 0 1.02-.2 1.41-.59l7.78-7.78 2.81-2.81c.8-.78.8-2.07 0-2.86zM5.41 20L4 18.59l7.72-7.72 1.47 1.35L5.41 20z\"/>\n",
              "  </svg>\n",
              "      </button>\n",
              "      \n",
              "  <style>\n",
              "    .colab-df-container {\n",
              "      display:flex;\n",
              "      flex-wrap:wrap;\n",
              "      gap: 12px;\n",
              "    }\n",
              "\n",
              "    .colab-df-convert {\n",
              "      background-color: #E8F0FE;\n",
              "      border: none;\n",
              "      border-radius: 50%;\n",
              "      cursor: pointer;\n",
              "      display: none;\n",
              "      fill: #1967D2;\n",
              "      height: 32px;\n",
              "      padding: 0 0 0 0;\n",
              "      width: 32px;\n",
              "    }\n",
              "\n",
              "    .colab-df-convert:hover {\n",
              "      background-color: #E2EBFA;\n",
              "      box-shadow: 0px 1px 2px rgba(60, 64, 67, 0.3), 0px 1px 3px 1px rgba(60, 64, 67, 0.15);\n",
              "      fill: #174EA6;\n",
              "    }\n",
              "\n",
              "    [theme=dark] .colab-df-convert {\n",
              "      background-color: #3B4455;\n",
              "      fill: #D2E3FC;\n",
              "    }\n",
              "\n",
              "    [theme=dark] .colab-df-convert:hover {\n",
              "      background-color: #434B5C;\n",
              "      box-shadow: 0px 1px 3px 1px rgba(0, 0, 0, 0.15);\n",
              "      filter: drop-shadow(0px 1px 2px rgba(0, 0, 0, 0.3));\n",
              "      fill: #FFFFFF;\n",
              "    }\n",
              "  </style>\n",
              "\n",
              "      <script>\n",
              "        const buttonEl =\n",
              "          document.querySelector('#df-26b54ae9-1680-4ea3-9975-9a319deda179 button.colab-df-convert');\n",
              "        buttonEl.style.display =\n",
              "          google.colab.kernel.accessAllowed ? 'block' : 'none';\n",
              "\n",
              "        async function convertToInteractive(key) {\n",
              "          const element = document.querySelector('#df-26b54ae9-1680-4ea3-9975-9a319deda179');\n",
              "          const dataTable =\n",
              "            await google.colab.kernel.invokeFunction('convertToInteractive',\n",
              "                                                     [key], {});\n",
              "          if (!dataTable) return;\n",
              "\n",
              "          const docLinkHtml = 'Like what you see? Visit the ' +\n",
              "            '<a target=\"_blank\" href=https://colab.research.google.com/notebooks/data_table.ipynb>data table notebook</a>'\n",
              "            + ' to learn more about interactive tables.';\n",
              "          element.innerHTML = '';\n",
              "          dataTable['output_type'] = 'display_data';\n",
              "          await google.colab.output.renderOutput(dataTable, element);\n",
              "          const docLink = document.createElement('div');\n",
              "          docLink.innerHTML = docLinkHtml;\n",
              "          element.appendChild(docLink);\n",
              "        }\n",
              "      </script>\n",
              "    </div>\n",
              "  </div>\n",
              "  "
            ],
            "text/plain": [
              "  id_griya                                         nama_griya  \\\n",
              "0     gr01                                  Kost Uluwatu Stay   \n",
              "1     gr02                                            Kos 168   \n",
              "2     gr03                                       Lakuna House   \n",
              "3     gr04                                   Awana Apartments   \n",
              "4     gr05                                    Rumah Una Hotel   \n",
              "5     gr06                         Kost Pondok EFATA Jimbaran   \n",
              "6     gr07                              Wika Bali Beach House   \n",
              "7     gr08                          Kost Ibu Made Taman Griya   \n",
              "8     gr09                      Griya Amerta Kost & Home Stay   \n",
              "9     gr10  Kos PuriNaga at Jimbaran Bukit perum Purigadin...   \n",
              "\n",
              "                                        alamat_griya  latitude   longitude  \\\n",
              "0                                           Jimbaran -8.797208  115.162319   \n",
              "1                            Gg. Buanasari Uluwatu 2 -8.795778  115.159935   \n",
              "2              Jalan Muding Mekar Taman Muding Mekar -8.788545  115.182526   \n",
              "3                                    Jl. Arwana No.6 -8.778635  115.176744   \n",
              "4                                           656H+MRQ -8.788037  115.179516   \n",
              "5                                           Jimbaran -8.793385  115.165669   \n",
              "6  Perumahan Terrace Campus Jalan Perumahan Terra... -8.787962  115.172461   \n",
              "7                              Jl. Taman Griya No.15 -8.784103  115.185916   \n",
              "8                                           65CR+GW6 -8.778157  115.192303   \n",
              "9                                  perum Puri Gading -8.801855  115.155358   \n",
              "\n",
              "   rating  user_id  \n",
              "0       4        1  \n",
              "1       3        2  \n",
              "2       5        3  \n",
              "3       4        4  \n",
              "4       2        5  \n",
              "5       5        6  \n",
              "6       5        7  \n",
              "7       4        8  \n",
              "8       5        9  \n",
              "9       5       10  "
            ]
          },
          "execution_count": 5,
          "metadata": {},
          "output_type": "execute_result"
        }
      ],
      "source": [
        "ratings"
      ]
    },
    {
      "cell_type": "code",
      "execution_count": 6,
      "metadata": {
        "id": "ENPSDQOkXxK4"
      },
      "outputs": [],
      "source": [
        "ratings_dataset = tf.data.Dataset.from_tensor_slices((ratings['id_griya'], ratings['nama_griya'], ratings['rating'], ratings['user_id'].astype(str)))\n",
        "griya_dataset = tf.data.Dataset.from_tensor_slices((griya['id_griya'], griya['nama_griya']))"
      ]
    },
    {
      "cell_type": "code",
      "execution_count": 7,
      "metadata": {
        "colab": {
          "base_uri": "https://localhost:8080/"
        },
        "id": "vsAPY4tQYq8c",
        "outputId": "7d2aedf6-c786-42ad-f943-ce76b1ddd0e6"
      },
      "outputs": [
        {
          "name": "stdout",
          "output_type": "stream",
          "text": [
            "(b'gr01', b'Kost Uluwatu Stay')\n"
          ]
        }
      ],
      "source": [
        "for x in griya_dataset.take(1).as_numpy_iterator():\n",
        "  pprint.pprint(x)"
      ]
    },
    {
      "cell_type": "code",
      "execution_count": 8,
      "metadata": {
        "colab": {
          "base_uri": "https://localhost:8080/"
        },
        "id": "rcScYyN6ZdKh",
        "outputId": "0ac96e58-1099-48ee-b573-a619204ace38"
      },
      "outputs": [
        {
          "name": "stdout",
          "output_type": "stream",
          "text": [
            "(b'gr01', b'Kost Uluwatu Stay', 4, b'1')\n"
          ]
        }
      ],
      "source": [
        "for x in ratings_dataset.take(1).as_numpy_iterator():\n",
        "  pprint.pprint(x)"
      ]
    },
    {
      "cell_type": "code",
      "execution_count": 9,
      "metadata": {
        "id": "FS_eH_Y4YwoX"
      },
      "outputs": [],
      "source": [
        "ratings_dataset = ratings_dataset.map(lambda id_griya, nama_griya, rating, user_id: {\n",
        "    \"nama_griya\": nama_griya,\n",
        "    \"user_id\": user_id,\n",
        "})\n",
        "griya_dataset = griya_dataset.map(lambda id_griya, nama_griya: nama_griya)\n"
      ]
    },
    {
      "cell_type": "code",
      "execution_count": 10,
      "metadata": {
        "id": "a8Oin81rbR6V"
      },
      "outputs": [],
      "source": [
        "tf.random.set_seed(42)\n",
        "shuffled = ratings_dataset.shuffle(10, seed=42, reshuffle_each_iteration=False)\n",
        "\n",
        "train = shuffled.take(8)\n",
        "test = shuffled.skip(8).take(2)"
      ]
    },
    {
      "cell_type": "code",
      "execution_count": 11,
      "metadata": {
        "colab": {
          "base_uri": "https://localhost:8080/"
        },
        "id": "w3fHUa55bgpc",
        "outputId": "311110e3-7602-4ea6-9c86-d57c9d54b02e"
      },
      "outputs": [
        {
          "data": {
            "text/plain": [
              "array([b'Awana Apartments', b'Griya Amerta Kost & Home Stay', b'Kos 168',\n",
              "       b'Kos PuriNaga at Jimbaran Bukit perum Purigading Cluster Palem',\n",
              "       b'Kost Ibu Made Taman Griya', b'Kost Pondok EFATA Jimbaran',\n",
              "       b'Kost Uluwatu Stay', b'Lakuna House', b'Rumah Una Hotel',\n",
              "       b'Wika Bali Beach House'], dtype=object)"
            ]
          },
          "execution_count": 11,
          "metadata": {},
          "output_type": "execute_result"
        }
      ],
      "source": [
        "nama_griya = griya_dataset.batch(1)\n",
        "user_ids = ratings_dataset.batch(1_000_000).map(lambda x: x[\"user_id\"])\n",
        "\n",
        "unique_griya_name = np.unique(np.concatenate(list(nama_griya)))\n",
        "unique_user_ids = np.unique(np.concatenate(list(user_ids))).astype(str)\n",
        "unique_user_ids = unique_user_ids.astype(object)\n",
        "\n",
        "unique_griya_name_tensor = tf.keras.layers.StringLookup(\n",
        "    vocabulary=unique_griya_name, mask_token=None\n",
        ")\n",
        "\n",
        "unique_user_ids_tensor = tf.keras.layers.StringLookup(\n",
        "    vocabulary=unique_user_ids, mask_token=None\n",
        ")\n",
        "\n",
        "unique_griya_name[:10]"
      ]
    },
    {
      "cell_type": "code",
      "execution_count": 12,
      "metadata": {
        "colab": {
          "base_uri": "https://localhost:8080/"
        },
        "id": "TBUrkMUYj0R8",
        "outputId": "e0d354fe-e13f-461b-fc56-c1e3ade2e73c"
      },
      "outputs": [
        {
          "data": {
            "text/plain": [
              "array(['1', '10', '2', '3', '4', '5', '6', '7', '8', '9'], dtype=object)"
            ]
          },
          "execution_count": 12,
          "metadata": {},
          "output_type": "execute_result"
        }
      ],
      "source": [
        "unique_user_ids"
      ]
    },
    {
      "cell_type": "code",
      "execution_count": 13,
      "metadata": {
        "id": "HLvUft56hfzV"
      },
      "outputs": [],
      "source": [
        "embedding_dimension = 32\n"
      ]
    },
    {
      "cell_type": "code",
      "execution_count": 56,
      "metadata": {
        "id": "F7XeZbHigDF7"
      },
      "outputs": [],
      "source": [
        "user_model = tf.keras.Sequential([\n",
        "  tf.keras.layers.StringLookup(\n",
        "      vocabulary=unique_user_ids, mask_token=None),\n",
        "  # We add an additional embedding to account for unknown tokens.\n",
        "  tf.keras.layers.Embedding(len(unique_user_ids) + 1, embedding_dimension)\n",
        "])"
      ]
    },
    {
      "cell_type": "code",
      "execution_count": 57,
      "metadata": {
        "id": "ICLzJ9vmhdvv"
      },
      "outputs": [],
      "source": [
        "griya_model = tf.keras.Sequential([\n",
        "  tf.keras.layers.StringLookup(\n",
        "      vocabulary=unique_griya_name, mask_token=None),\n",
        "  tf.keras.layers.Embedding(len(unique_griya_name) + 1, embedding_dimension)\n",
        "])"
      ]
    },
    {
      "cell_type": "code",
      "execution_count": 58,
      "metadata": {
        "id": "F3FrZ41YhzYW"
      },
      "outputs": [],
      "source": [
        "metrics = tfrs.metrics.FactorizedTopK(\n",
        "  candidates=griya_dataset.batch(1).map(griya_model)\n",
        ")\n"
      ]
    },
    {
      "cell_type": "code",
      "execution_count": 59,
      "metadata": {
        "id": "B1RMgtxgiC9U"
      },
      "outputs": [],
      "source": [
        "task = tfrs.tasks.Retrieval(\n",
        "  metrics=metrics\n",
        ")"
      ]
    },
    {
      "cell_type": "code",
      "execution_count": 60,
      "metadata": {
        "id": "5TJd6qIVb3HG"
      },
      "outputs": [],
      "source": [
        "class griyalensModel(tfrs.Model):\n",
        "\n",
        "  def __init__(self, user_model,griya_model):\n",
        "    super().__init__()\n",
        "    self.griya_model: tf.keras.Model = griya_model\n",
        "    self.user_model: tf.keras.Model = user_model\n",
        "    self.task: tf.keras.layers.Layer = task\n",
        "\n",
        "  def compute_loss(self, features: Dict[Text, tf.Tensor], training=False) -> tf.Tensor:\n",
        "    user_embeddings = self.user_model(features[\"user_id\"])\n",
        "    positive_griya_embeddings = self.griya_model(features[\"nama_griya\"])\n",
        "    return self.task(user_embeddings, positive_griya_embeddings)\n"
      ]
    },
    {
      "cell_type": "code",
      "execution_count": 61,
      "metadata": {
        "id": "GUPkOxauiHpk"
      },
      "outputs": [],
      "source": [
        "model = griyalensModel(user_model, griya_model)\n",
        "model.compile(optimizer=tf.keras.optimizers.Adagrad(learning_rate=0.1))"
      ]
    },
    {
      "cell_type": "code",
      "execution_count": 62,
      "metadata": {
        "id": "8wo94Up8iNhA"
      },
      "outputs": [],
      "source": [
        "cached_train = train.shuffle(100_000).batch(2).cache()\n",
        "cached_test = test.batch(1).cache()"
      ]
    },
    {
      "cell_type": "code",
      "execution_count": 63,
      "metadata": {
        "colab": {
          "base_uri": "https://localhost:8080/"
        },
        "id": "eBl_yx1kiSWo",
        "outputId": "5e85d674-6c9b-4458-cf3d-f53efe8a5e22"
      },
      "outputs": [
        {
          "name": "stdout",
          "output_type": "stream",
          "text": [
            "Epoch 1/3\n",
            "4/4 [==============================] - 2s 98ms/step - factorized_top_k/top_1_categorical_accuracy: 0.0000e+00 - factorized_top_k/top_5_categorical_accuracy: 0.3750 - factorized_top_k/top_10_categorical_accuracy: 0.8750 - factorized_top_k/top_50_categorical_accuracy: 1.0000 - factorized_top_k/top_100_categorical_accuracy: 1.0000 - loss: 1.3908 - regularization_loss: 0.0000e+00 - total_loss: 1.3908\n",
            "Epoch 2/3\n",
            "4/4 [==============================] - 0s 61ms/step - factorized_top_k/top_1_categorical_accuracy: 0.0000e+00 - factorized_top_k/top_5_categorical_accuracy: 0.8750 - factorized_top_k/top_10_categorical_accuracy: 1.0000 - factorized_top_k/top_50_categorical_accuracy: 1.0000 - factorized_top_k/top_100_categorical_accuracy: 1.0000 - loss: 1.3747 - regularization_loss: 0.0000e+00 - total_loss: 1.3747\n",
            "Epoch 3/3\n",
            "4/4 [==============================] - 0s 62ms/step - factorized_top_k/top_1_categorical_accuracy: 0.0000e+00 - factorized_top_k/top_5_categorical_accuracy: 1.0000 - factorized_top_k/top_10_categorical_accuracy: 1.0000 - factorized_top_k/top_50_categorical_accuracy: 1.0000 - factorized_top_k/top_100_categorical_accuracy: 1.0000 - loss: 1.3576 - regularization_loss: 0.0000e+00 - total_loss: 1.3576\n"
          ]
        },
        {
          "data": {
            "text/plain": [
              "<keras.callbacks.History at 0x7f83804385e0>"
            ]
          },
          "execution_count": 63,
          "metadata": {},
          "output_type": "execute_result"
        }
      ],
      "source": [
        "model.fit(cached_train, epochs=3)"
      ]
    },
    {
      "cell_type": "code",
      "execution_count": 64,
      "metadata": {
        "colab": {
          "base_uri": "https://localhost:8080/"
        },
        "id": "bDl7B1AclQT_",
        "outputId": "bc30f9f6-6556-4ede-a7d2-d10f19dc4024"
      },
      "outputs": [
        {
          "name": "stdout",
          "output_type": "stream",
          "text": [
            "2/2 [==============================] - 1s 63ms/step - factorized_top_k/top_1_categorical_accuracy: 0.0000e+00 - factorized_top_k/top_5_categorical_accuracy: 0.5000 - factorized_top_k/top_10_categorical_accuracy: 1.0000 - factorized_top_k/top_50_categorical_accuracy: 1.0000 - factorized_top_k/top_100_categorical_accuracy: 1.0000 - loss: 0.0000e+00 - regularization_loss: 0.0000e+00 - total_loss: 0.0000e+00\n"
          ]
        },
        {
          "data": {
            "text/plain": [
              "{'factorized_top_k/top_1_categorical_accuracy': 0.0,\n",
              " 'factorized_top_k/top_5_categorical_accuracy': 0.5,\n",
              " 'factorized_top_k/top_10_categorical_accuracy': 1.0,\n",
              " 'factorized_top_k/top_50_categorical_accuracy': 1.0,\n",
              " 'factorized_top_k/top_100_categorical_accuracy': 1.0,\n",
              " 'loss': 0.0,\n",
              " 'regularization_loss': 0,\n",
              " 'total_loss': 0.0}"
            ]
          },
          "execution_count": 64,
          "metadata": {},
          "output_type": "execute_result"
        }
      ],
      "source": [
        "model.evaluate(cached_test, return_dict=True)\n"
      ]
    },
    {
      "cell_type": "code",
      "execution_count": 65,
      "metadata": {
        "colab": {
          "base_uri": "https://localhost:8080/"
        },
        "id": "QZjoT-WalUYN",
        "outputId": "4a149538-527e-489e-bb93-ec635f5cd6e4"
      },
      "outputs": [
        {
          "name": "stdout",
          "output_type": "stream",
          "text": [
            "Recommendations for user 42: [b'Kos 168' b'Kost Uluwatu Stay' b'Lakuna House']\n"
          ]
        }
      ],
      "source": [
        "# Create a model that takes in raw query features, and\n",
        "index = tfrs.layers.factorized_top_k.BruteForce(model.user_model)\n",
        "# recommends griya out of the entire griya dataset.\n",
        "index.index_from_dataset(\n",
        "  tf.data.Dataset.zip((griya_dataset.batch(100), griya_dataset.batch(100).map(model.griya_model)))\n",
        ")\n",
        "\n",
        "# Get recommendations.\n",
        "_, titles = index(tf.constant([\"2\"]))\n",
        "print(f\"Recommendations for user 42: {titles[0, :3]}\")"
      ]
    },
    {
      "cell_type": "code",
      "execution_count": 1,
      "metadata": {
        "colab": {
          "base_uri": "https://localhost:8080/"
        },
        "id": "x54cBL_ulqVa",
        "outputId": "adf489bb-37cc-4423-ed11-814f2c2bad03"
      },
      "outputs": [
        {
          "ename": "NameError",
          "evalue": "name 'tempfile' is not defined",
          "output_type": "error",
          "traceback": [
            "\u001b[1;31m---------------------------------------------------------------------------\u001b[0m",
            "\u001b[1;31mNameError\u001b[0m                                 Traceback (most recent call last)",
            "Cell \u001b[1;32mIn[1], line 2\u001b[0m\n\u001b[0;32m      1\u001b[0m \u001b[39m# Export the query model.\u001b[39;00m\n\u001b[1;32m----> 2\u001b[0m \u001b[39mwith\u001b[39;00m tempfile\u001b[39m.\u001b[39mTemporaryDirectory() \u001b[39mas\u001b[39;00m tmp:\n\u001b[0;32m      3\u001b[0m   path \u001b[39m=\u001b[39m os\u001b[39m.\u001b[39mpath\u001b[39m.\u001b[39mjoin(tmp, \u001b[39m\"\u001b[39m\u001b[39mmodel\u001b[39m\u001b[39m\"\u001b[39m)\n\u001b[0;32m      5\u001b[0m   \u001b[39m# Save the index.\u001b[39;00m\n",
            "\u001b[1;31mNameError\u001b[0m: name 'tempfile' is not defined"
          ]
        }
      ],
      "source": [
        "# Export the query model.\n",
        "with tempfile.TemporaryDirectory() as tmp:\n",
        "  path = os.path.join(tmp, \"model\")\n",
        "\n",
        "  # Save the index.\n",
        "  tf.saved_model.save(index, path)\n",
        "\n",
        "  # Load it back; can also be done in TensorFlow Serving.\n",
        "  loaded = tf.saved_model.load(path)\n",
        "\n",
        "  # Pass a user id in, get top predicted griya titles back.\n",
        "  scores, titles = loaded([\"42\"])\n",
        "\n",
        "  print(f\"Recommendations: {titles[0][:3]}\")\n",
        "\n"
      ]
    }
  ],
  "metadata": {
    "colab": {
      "provenance": []
    },
    "kernelspec": {
      "display_name": "Python 3",
      "name": "python3"
    },
    "language_info": {
      "codemirror_mode": {
        "name": "ipython",
        "version": 3
      },
      "file_extension": ".py",
      "mimetype": "text/x-python",
      "name": "python",
      "nbconvert_exporter": "python",
      "pygments_lexer": "ipython3",
      "version": "3.11.3"
    }
  },
  "nbformat": 4,
  "nbformat_minor": 0
}
